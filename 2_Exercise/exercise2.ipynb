{
 "cells": [
  {
   "cell_type": "markdown",
   "metadata": {},
   "source": [
    "## PC Session 2"
   ]
  },
  {
   "cell_type": "markdown",
   "metadata": {},
   "source": [
    "# **Regression Forest**"
   ]
  },
  {
   "cell_type": "markdown",
   "metadata": {},
   "source": [
    "**Author:**\n",
    "[Anthony Strittmatter](http://www.anthonystrittmatter.com)\n"
   ]
  },
  {
   "cell_type": "markdown",
   "metadata": {},
   "source": [
    "We estimate the hedonic prices of used-cars using the data *used_cars.csv*. The data is restricted to BMW 320 series, Opel Astra, Mercedes C-class, VW Golf, and VW Passat. We select used-cars with a mileage between 10,000-200,000 km and an age between 1-20 years. \n",
    "\n",
    "We use the following variables:\n",
    "\n",
    "\n",
    "|Variable name| Description|\n",
    "|:----|:----|\n",
    "|**Outcome variables** ||\n",
    "|*first_price*| First asking price in 1,000 CHF |\n",
    "|**Baseline covariates**| |\n",
    "|*bmw_320, opel_astra, mercedes_c, vw_golf, vw_passat*| Dummies for the car make and model|\n",
    "|*mileage*| Mileage of the used car (in 1,000 km)|\n",
    "|*age_car_years*| Age of the used car (in years)|\n",
    "|*diesel*| Dummy for diesel engines |\n",
    "|*private_seller*| Dummy for private seller (as opposed to professional used car sellers) |\n",
    "|*other_car_owner*| Number of previous caar owners |\n",
    "|*guarantee*| Dummy indicating that the seller offers a guarantee for the used car|\n",
    "|*maintenance_cert*| Dummy indicating that the seller has a complete maintenace certificate for the used car|\n",
    "|*inspection*| Categorial variable for the duration until next general inspection (3 categories: new, 1-2 years, < 1 year) |\n",
    "|*pm_green*| Dummy indicating that the used car has low particular matter emissions|\n",
    "|*co2_em*| CO2 emssion (in g/km)|\n",
    "|*euro_norm*| EURO emission norm under which the car is registered |\n",
    "\n",
    "\n",
    "The forest estimator will automatically incorporate interaction and non-linear terms.\n"
   ]
  },
  {
   "cell_type": "markdown",
   "metadata": {},
   "source": [
    "## Load Packages"
   ]
  },
  {
   "cell_type": "code",
   "execution_count": 1,
   "metadata": {},
   "outputs": [
    {
     "name": "stderr",
     "output_type": "stream",
     "text": [
      "-- Attaching packages --------------------------------------- tidyverse 1.2.1 --\n",
      "v ggplot2 2.2.1     v purrr   0.2.4\n",
      "v tibble  1.4.1     v dplyr   0.7.4\n",
      "v tidyr   0.7.2     v stringr 1.2.0\n",
      "v readr   1.1.1     v forcats 0.2.0\n",
      "-- Conflicts ------------------------------------------ tidyverse_conflicts() --\n",
      "x dplyr::filter() masks stats::filter()\n",
      "x dplyr::lag()    masks stats::lag()\n"
     ]
    },
    {
     "ename": "ERROR",
     "evalue": "Error in library(pkg, character.only = TRUE): there is no package called 'grf'\n",
     "output_type": "error",
     "traceback": [
      "Error in library(pkg, character.only = TRUE): there is no package called 'grf'\nTraceback:\n",
      "1. library(pkg, character.only = TRUE)",
      "2. stop(txt, domain = NA)"
     ]
    }
   ],
   "source": [
    "########################  Load Packages  ########################\n",
    "\n",
    "# List of required packages\n",
    "pkgs <- c('tidyverse','grf')\n",
    "\n",
    "# Load packages\n",
    "for(pkg in pkgs){\n",
    "    library(pkg, character.only = TRUE)\n",
    "}\n",
    "\n",
    "set.seed(10101) # set starting value for random number generator\n",
    "\n",
    "print('All packages successfully installed and loaded.')\n"
   ]
  },
  {
   "cell_type": "markdown",
   "metadata": {},
   "source": [
    "## Load Data Frame"
   ]
  },
  {
   "cell_type": "markdown",
   "metadata": {},
   "source": [
    "We load the data frame and label the covariates. We select a subsample of 300 used-cars in order to decrease the computation time while you are testing your code. We can use the entire sample of 104,719 used cars after we are finised with programming."
   ]
  },
  {
   "cell_type": "code",
   "execution_count": null,
   "metadata": {},
   "outputs": [],
   "source": [
    "########################  Load Data Frame  ########################\n",
    "\n",
    "# Load data frame\n",
    "data_raw <- read.csv(\"Data/used_cars.csv\",header=TRUE, sep=\",\")\n",
    "\n",
    "# Outcome Variable\n",
    "outcomes <- c(\"first_price\", \"final_price\")\n",
    "\n",
    "# Covariates/Features\n",
    "covariates <- c(\"mileage\", \"age_car_years\", \"other_car_owner\", \"co2_em\", \"euro_norm\", \"inspection\", \n",
    "                \"bmw_320\", \"opel_astra\", \"mercedes_c\", \"vw_golf\", \"vw_passat\", \"diesel\", \n",
    "                \"private_seller\", \"guarantee\", \"maintenance_cert\", \"pm_green\") \n",
    "\n",
    "all_variables <- c(outcomes, covariates)\n",
    "\n",
    "# Selection of Subsample size, max. 104,721 observations\n",
    "# Select smaller subsample to decrease computation time\n",
    "n_obs <- 300\n",
    "df <- data_raw %>%\n",
    "  dplyr::sample_n(n_obs) %>%\n",
    "  dplyr::select(all_variables)\n",
    "\n",
    "print('Data frame successfully loaded.')\n"
   ]
  },
  {
   "cell_type": "markdown",
   "metadata": {},
   "source": [
    "## Descriptive Statistics"
   ]
  },
  {
   "cell_type": "markdown",
   "metadata": {},
   "source": [
    "### Means and Standard Deviations"
   ]
  },
  {
   "cell_type": "code",
   "execution_count": null,
   "metadata": {},
   "outputs": [],
   "source": [
    "########################  Table with Descriptive Statistics  ########################\n",
    "\n",
    "desc <- fBasics::basicStats(df) %>% t() %>% as.data.frame() %>% \n",
    "          select(Mean, Stdev, Minimum, Maximum, nobs)\n",
    "print(round(desc, digits=1))"
   ]
  },
  {
   "cell_type": "markdown",
   "metadata": {},
   "source": [
    "## Take Hold-Out-Sample "
   ]
  },
  {
   "cell_type": "markdown",
   "metadata": {},
   "source": [
    "We want to compare the relative prediction power of different estimation procedures based on the out-of-sample MSE and $R^2$. For this purpose, we create an hold-out-sample."
   ]
  },
  {
   "cell_type": "code",
   "execution_count": null,
   "metadata": {},
   "outputs": [],
   "source": [
    "########################  Take Hold-Out-Sample  ########################\n",
    "\n",
    "df_part <- modelr::resample_partition(df, c(obs = 0.8, hold_out = 0.2))\n",
    "df_obs <- as.data.frame(df_part$obs) # Training and estimation sample\n",
    "df_hold_out <- as.data.frame(df_part$hold_out) # Hold-out-sample\n",
    "\n",
    "# Outcomes\n",
    "first_price_obs <- as.matrix(df_obs[,1])\n",
    "first_price_hold_out <- as.matrix(df_hold_out[,1])\n",
    "final_price_obs <- as.matrix(df_obs[,2])\n",
    "final_price_hold_out <- as.matrix(df_hold_out[,2])\n",
    "\n",
    "# Covariates/Features\n",
    "covariates_obs <- as.matrix(df_obs[,c(3:ncol(df_obs))])\n",
    "covariates_hold_out <- as.matrix(df_hold_out[,c(3:ncol(df_hold_out))])\n",
    "\n",
    "print('The data is now ready for your first analysis!')\n"
   ]
  },
  {
   "cell_type": "markdown",
   "metadata": {},
   "source": [
    "# Random Forest"
   ]
  },
  {
   "cell_type": "markdown",
   "metadata": {},
   "source": [
    "The honest random forest computes many honest trees using different subsamples and subsets of the covariates. Then it reports the final_price predicted using the average of all honest trees."
   ]
  },
  {
   "cell_type": "code",
   "execution_count": null,
   "metadata": {},
   "outputs": [],
   "source": [
    "########################  Random Forest  ######################## \n",
    "\n",
    "forest <- regression_forest(covariates_obs, first_price_obs,\n",
    "                            sample.fraction = 0.5, min.node.size = 1,\n",
    "                            mtry = floor(1/2*ncol(covariates_obs)),\n",
    "                            num.trees = 500,\n",
    "                            honesty = TRUE, honesty.fraction = 0.5)\n",
    "\n",
    "\n",
    "fit_in <- predict(forest)$predictions\n",
    "fit_out <- predict(forest, newdata =covariates_hold_out)$predictions\n",
    "\n",
    "print('Forest is build.')\n"
   ]
  },
  {
   "cell_type": "markdown",
   "metadata": {},
   "source": [
    "Evaluate the in- and out-of-sample performance using MSE and $R^2$."
   ]
  },
  {
   "cell_type": "code",
   "execution_count": null,
   "metadata": {},
   "outputs": [],
   "source": [
    "# In-sample performance measures\n",
    "mse1_in <- round(mean((first_price_obs - fit_in)^2),digits=3)\n",
    "rsquared_in <- round(1-mean((first_price_obs - fit_in)^2)/mean((first_price_obs - mean(first_price_obs))^2),digits=3)\n",
    "print(paste0(\"In-Sample MSE Forest: \", mse1_in))\n",
    "print(paste0(\"In-Sample R-squared Forest: \", rsquared_in))\n",
    "\n",
    "# Out-of-sample performance measures\n",
    "mse1_out <- round(mean((first_price_hold_out - fit_out)^2),digits=3)\n",
    "rsquared_out <- round(1-mean((first_price_hold_out - fit_out)^2)/mean((first_price_hold_out - mean(first_price_hold_out))^2),digits=3)\n",
    "print(paste0(\"Out-of-Sample MSE Forest: \", mse1_out))\n",
    "print(paste0(\"Out-of-Sample R-squared Forest: \", rsquared_out))"
   ]
  },
  {
   "cell_type": "markdown",
   "metadata": {},
   "source": [
    "It is difficult the interpret the structure of an random forest. We can report the number of splits based on different covariates. But we have to interprete this with caution, because the covariates might be correlated."
   ]
  },
  {
   "cell_type": "code",
   "execution_count": null,
   "metadata": {},
   "outputs": [],
   "source": [
    "vars <- split_frequencies(forest, max.depth = 4)\n",
    "colnames(vars) <- covariates\n",
    "print(vars)\n",
    "\n",
    "sum(vars[1,])\n",
    "sum(vars[2,])\n",
    "sum(vars[3,])\n",
    "sum(vars[4,])"
   ]
  },
  {
   "cell_type": "markdown",
   "metadata": {},
   "source": [
    "Random forests have many tuning parameters. Often the choice of the tuning parameters do not matter very much when we use many trees to grow the forest. Therefore, the forest size is an important tuning parameter for random forests. A plot of the RMSE by forest size can help us to select the forest size. Usually, we select a fairly large forest."
   ]
  },
  {
   "cell_type": "code",
   "execution_count": null,
   "metadata": {},
   "outputs": [],
   "source": [
    "########################  Select tuning parameters for forest  ######################## \n",
    "\n",
    "#for_sizes = c(1,5, 10,15, 20,25,50,100,150,200,250, 300,350, 400, 450, 500, 1000, 1500, 2000, 3000, 4000, 5000, 10000)\n",
    "for_sizes = c(1,5, 10,15, 20,25,50,100,150,200,250, 300,350, 400, 450, 500) # Because of computation time we consider only forests with 500 trees. At home you can consider larger forests.\n",
    "auc <- matrix(NA,nrow=length(for_sizes),ncol=3)\n",
    "ctr <- 0\n",
    "for (n in for_sizes){\n",
    "  ctr <- ctr + 1\n",
    "  auc[ctr,1] <- n\n",
    "  \n",
    "    forest <- regression_forest(covariates_obs, first_price_obs,\n",
    "                            sample.fraction = 0.5, min.node.size = 1,\n",
    "                            mtry = floor(1/2*ncol(covariates_obs)),\n",
    "                            num.trees = n,\n",
    "                            honesty = TRUE, honesty.fraction = 0.5)\n",
    "  \n",
    "  # Predict prices in hold-out-sample\n",
    "  pred_forest <- predict(forest, newdata = covariates_hold_out)\n",
    "  rmse_forest <- round(sqrt(mean((first_price_hold_out - pred_forest$predictions)^2)),digits=3)\n",
    "  auc[ctr,2] <- rmse_forest\n",
    "  if (ctr >1) {\n",
    "    auc[ctr,3] <- rmse_forest-auc[ctr-1,2]\n",
    "  }\n",
    "}\n",
    "\n",
    "plot(auc[,1], auc[,2], main=\"Tuning of forest size\", xlab=\"Number of trees in forest \", ylab=\"RMSE\", pch=19)\n",
    "nls_fit <- lm(auc[,2] ~  auc[,1] + I(auc[,1]^(1/2)) + I(auc[,1]^2) + I(auc[,1]^3) + I(log(auc[,1])))\n",
    "lines(auc[,1], predict(nls_fit), col = \"red\")\n",
    "\n",
    "plot(auc[c(2:nrow(auc)),1], auc[c(2:nrow(auc)),3], main=\"Tuning of forest size\", xlab=\"Number of trees in forest \", ylab=\"Delta RMSE\", pch=19)\n",
    "nls_fit <- lm(auc[c(2:nrow(auc)),3] ~  auc[c(2:nrow(auc)),1] + I(auc[c(2:nrow(auc)),1]^(1/2)) + I(auc[c(2:nrow(auc)),1]^2) + I(auc[c(2:nrow(auc)),1]^3) + I(log(auc[c(2:nrow(auc)),1])))\n",
    "lines(auc[c(2:nrow(auc)),1], predict(nls_fit), col = \"red\")\n",
    "abline(h=0)\n"
   ]
  },
  {
   "cell_type": "markdown",
   "metadata": {},
   "source": [
    "**Exercise:** Predict the final used-cars prices using a random forest. Evaluate the performance of the prediction."
   ]
  },
  {
   "cell_type": "code",
   "execution_count": null,
   "metadata": {},
   "outputs": [],
   "source": [
    "########################  Random Forest for \"Overpice\"  ######################## \n",
    "\n",
    "forest <- ???\n",
    "\n",
    "fit_in <- ???\n",
    "fit_out <- ???\n",
    "\n",
    "# In-sample performance measures\n",
    "mse2_in <- round(mean((final_price_obs - fit_in)^2),digits=3)\n",
    "rsquared2_in <- round(1-mean((final_price_obs - fit_in)^2)/mean((final_price_obs - mean(final_price_obs))^2),digits=3)\n",
    "print(paste0(\"In-Sample MSE Forest: \", mse2_in))\n",
    "print(paste0(\"In-Sample R-squared Forest: \", rsquared2_in))\n",
    "\n",
    "# Out-of-sample performance measures\n",
    "mse2_out <- round(mean((final_price_hold_out - fit_out)^2),digits=3)\n",
    "rsquared2_out <- round(1-mean((final_price_hold_out - fit_out)^2)/mean((final_price_hold_out - mean(final_price_hold_out))^2),digits=3)\n",
    "print(paste0(\"Out-of-Sample MSE Forest: \", mse2_out))\n",
    "print(paste0(\"Out-of-Sample R-squared Forest: \", rsquared2_out))"
   ]
  },
  {
   "cell_type": "code",
   "execution_count": null,
   "metadata": {},
   "outputs": [],
   "source": []
  }
 ],
 "metadata": {
  "kernelspec": {
   "display_name": "R",
   "language": "R",
   "name": "ir"
  },
  "language_info": {
   "codemirror_mode": "r",
   "file_extension": ".r",
   "mimetype": "text/x-r-source",
   "name": "R",
   "pygments_lexer": "r",
   "version": "3.4.3"
  }
 },
 "nbformat": 4,
 "nbformat_minor": 2
}
